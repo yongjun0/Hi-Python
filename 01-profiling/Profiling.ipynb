{
 "cells": [
  {
   "cell_type": "markdown",
   "id": "03ab700f",
   "metadata": {},
   "source": [
    "Profiling is a analysis which measures the memory or time of a program, the usage of particular instructions, or the frequency and duration of function calls. However, finding out why a program is slow by looking at its source code is not easy. It’s extremely hard to guess where a complex program is spending its time by just looking at the code.\n",
    "Profilers are program analysis tools which help developers profiling programs. Here, we will learn line profiler, cprofile (a built-in python module that can perform profiling), snakeViz, and memory profiler.\n"
   ]
  },
  {
   "cell_type": "markdown",
   "id": "ce4dfa88",
   "metadata": {},
   "source": []
  },
  {
   "cell_type": "code",
   "execution_count": 46,
   "id": "7c2153f5",
   "metadata": {},
   "outputs": [],
   "source": [
    "import time\n",
    "import random\n",
    "\n",
    "def very_slow_random_generator():\n",
    "    time.sleep(5)\n",
    "    arr = [random.randint(1,100) for i in range(1000)]\n",
    "\n",
    "    return sum(arr) / len(arr)\n",
    "\n",
    "def slow_random_generator():\n",
    "    time.sleep(2)\n",
    "    arr = [random.randint(1,100) for i in range(1000)]\n",
    "    return sum(arr) / len(arr)\n",
    "\n",
    "def fast_random_generator():\n",
    "    for i in range(3):\n",
    "        time.sleep(1)\n",
    "    arr = [random.randint(1,100) for i in range(1000)]\n",
    "    return sum(arr) / len(arr)\n",
    "\n",
    "\n",
    "def main_func():\n",
    "    result = fast_random_generator()\n",
    "    print(result)\n",
    "\n",
    "    result = slow_random_generator()\n",
    "    print(result)\n",
    "\n",
    "    result = very_slow_random_generator()\n",
    "    print(result)"
   ]
  },
  {
   "cell_type": "markdown",
   "id": "ff13ec29",
   "metadata": {},
   "source": [
    "# 1. timeit"
   ]
  },
  {
   "cell_type": "code",
   "execution_count": 49,
   "id": "88ba5763",
   "metadata": {},
   "outputs": [
    {
     "name": "stdout",
     "output_type": "stream",
     "text": [
      "3.01 s ± 3.03 ms per loop (mean ± std. dev. of 7 runs, 1 loop each)\n"
     ]
    }
   ],
   "source": [
    "%timeit fast_random_generator()"
   ]
  },
  {
   "cell_type": "markdown",
   "id": "c35a6363",
   "metadata": {},
   "source": [
    "# 2. line_profiler"
   ]
  },
  {
   "cell_type": "code",
   "execution_count": 42,
   "id": "5b8f89d4",
   "metadata": {},
   "outputs": [
    {
     "name": "stdout",
     "output_type": "stream",
     "text": [
      "The line_profiler extension is already loaded. To reload it, use:\n",
      "  %reload_ext line_profiler\n"
     ]
    }
   ],
   "source": [
    "%load_ext line_profiler"
   ]
  },
  {
   "cell_type": "code",
   "execution_count": 43,
   "id": "aaf6efcb",
   "metadata": {},
   "outputs": [],
   "source": [
    "%lprun -f very_slow_random_generator very_slow_random_generator()"
   ]
  },
  {
   "cell_type": "code",
   "execution_count": 44,
   "id": "5c0e1f70",
   "metadata": {},
   "outputs": [],
   "source": [
    "lprun -f slow_random_generator slow_random_generator()"
   ]
  },
  {
   "cell_type": "code",
   "execution_count": 47,
   "id": "8219ec5d",
   "metadata": {},
   "outputs": [],
   "source": [
    "lprun -f fast_random_generator fast_random_generator()"
   ]
  },
  {
   "cell_type": "markdown",
   "id": "5d5c0103",
   "metadata": {},
   "source": [
    "# 3. cProfile"
   ]
  },
  {
   "cell_type": "code",
   "execution_count": 64,
   "id": "ba7e4f8c",
   "metadata": {},
   "outputs": [
    {
     "name": "stdout",
     "output_type": "stream",
     "text": [
      " "
     ]
    }
   ],
   "source": [
    "%prun fast_random_generator()"
   ]
  },
  {
   "cell_type": "markdown",
   "id": "05970001",
   "metadata": {},
   "source": [
    "# 4. sankeViz"
   ]
  },
  {
   "cell_type": "code",
   "execution_count": 58,
   "id": "dc3cfee0",
   "metadata": {},
   "outputs": [
    {
     "name": "stdout",
     "output_type": "stream",
     "text": [
      "The snakeviz extension is already loaded. To reload it, use:\n",
      "  %reload_ext snakeviz\n"
     ]
    }
   ],
   "source": [
    "%load_ext snakeviz"
   ]
  },
  {
   "cell_type": "code",
   "execution_count": 63,
   "id": "d5bca159",
   "metadata": {},
   "outputs": [
    {
     "name": "stdout",
     "output_type": "stream",
     "text": [
      "50.022\n",
      "50.745\n",
      "50.042\n",
      " \n",
      "*** Profile stats marshalled to file '/var/folders/pt/_j1jcdb97w9b717jkn4zrrpm0000gn/T/tmp00yqip3f'. \n",
      "Embedding SnakeViz in this document...\n"
     ]
    },
    {
     "data": {
      "text/html": [
       "\n",
       "<iframe id='snakeviz-25c11480-a3ca-11ec-b579-acde48001122' frameborder=0 seamless width='100%' height='1000'></iframe>\n",
       "<script>document.getElementById(\"snakeviz-25c11480-a3ca-11ec-b579-acde48001122\").setAttribute(\"src\", \"http://\" + document.location.hostname + \":8080/snakeviz/%2Fvar%2Ffolders%2Fpt%2F_j1jcdb97w9b717jkn4zrrpm0000gn%2FT%2Ftmp00yqip3f\")</script>\n"
      ],
      "text/plain": [
       "<IPython.core.display.HTML object>"
      ]
     },
     "metadata": {},
     "output_type": "display_data"
    }
   ],
   "source": [
    "%snakeviz main_func()"
   ]
  },
  {
   "cell_type": "code",
   "execution_count": null,
   "id": "fbf352eb",
   "metadata": {},
   "outputs": [],
   "source": []
  }
 ],
 "metadata": {
  "kernelspec": {
   "display_name": "Python 3",
   "language": "python",
   "name": "python3"
  },
  "language_info": {
   "codemirror_mode": {
    "name": "ipython",
    "version": 3
   },
   "file_extension": ".py",
   "mimetype": "text/x-python",
   "name": "python",
   "nbconvert_exporter": "python",
   "pygments_lexer": "ipython3",
   "version": "3.8.8"
  }
 },
 "nbformat": 4,
 "nbformat_minor": 5
}
