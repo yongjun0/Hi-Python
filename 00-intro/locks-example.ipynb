{
 "cells": [
  {
   "cell_type": "code",
   "execution_count": null,
   "metadata": {},
   "outputs": [],
   "source": [
    "For colors, refer to\n",
    "https://stackoverflow.com/questions/4842424/list-of-ansi-color-escape-sequences/33206814#33206814"
   ]
  },
  {
   "cell_type": "code",
   "execution_count": 13,
   "metadata": {},
   "outputs": [],
   "source": [
    "import threading"
   ]
  },
  {
   "cell_type": "code",
   "execution_count": 14,
   "metadata": {},
   "outputs": [],
   "source": [
    "lock = threading.Lock()"
   ]
  },
  {
   "cell_type": "code",
   "execution_count": 15,
   "metadata": {},
   "outputs": [],
   "source": [
    "def function1():\n",
    "    c = '\\033[91m'  # bright red\n",
    "    for i in range(10):\n",
    "        lock.acquire ()\n",
    "        for word in ['Hello', 'from', 'the', 'first', 'function\\n']:\n",
    "            print(f' {c}{word}', end='')\n",
    "        \n",
    "        lock.release ()\n",
    "\n",
    "def function2():\n",
    "    c = '\\033[94m'  # bright blue\n",
    "    for i in range(10):\n",
    "        lock.acquire ()\n",
    "        for word in ['Hello', 'from', 'the', 'second', 'function\\n']:\n",
    "            print(f' {c}{word}', end='')\n",
    "            \n",
    "        lock.release ()"
   ]
  },
  {
   "cell_type": "code",
   "execution_count": 16,
   "metadata": {},
   "outputs": [
    {
     "name": "stdout",
     "output_type": "stream",
     "text": [
      " \u001b[91mHello \u001b[91mfrom \u001b[91mthe \u001b[91mfirst \u001b[91mfunction\n",
      " \u001b[91mHello \u001b[91mfrom \u001b[91mthe \u001b[91mfirst \u001b[91mfunction\n",
      " \u001b[91mHello \u001b[91mfrom \u001b[91mthe \u001b[91mfirst \u001b[91mfunction\n",
      " \u001b[91mHello \u001b[91mfrom \u001b[91mthe \u001b[91mfirst \u001b[91mfunction\n",
      " \u001b[91mHello \u001b[91mfrom \u001b[91mthe \u001b[91mfirst \u001b[91mfunction\n",
      " \u001b[91mHello \u001b[91mfrom \u001b[91mthe \u001b[91mfirst \u001b[91mfunction\n",
      " \u001b[91mHello \u001b[91mfrom \u001b[91mthe \u001b[91mfirst \u001b[91mfunction\n",
      " \u001b[91mHello \u001b[91mfrom \u001b[91mthe \u001b[91mfirst \u001b[91mfunction\n",
      " \u001b[91mHello \u001b[91mfrom \u001b[91mthe \u001b[91mfirst \u001b[91mfunction\n",
      " \u001b[91mHello \u001b[91mfrom \u001b[91mthe \u001b[91mfirst \u001b[91mfunction\n",
      " \u001b[94mHello \u001b[94mfrom \u001b[94mthe \u001b[94msecond \u001b[94mfunction\n",
      " \u001b[94mHello \u001b[94mfrom \u001b[94mthe \u001b[94msecond \u001b[94mfunction\n",
      " \u001b[94mHello \u001b[94mfrom \u001b[94mthe \u001b[94msecond \u001b[94mfunction\n",
      " \u001b[94mHello \u001b[94mfrom \u001b[94mthe \u001b[94msecond \u001b[94mfunction\n",
      " \u001b[94mHello \u001b[94mfrom \u001b[94mthe \u001b[94msecond \u001b[94mfunction\n",
      " \u001b[94mHello \u001b[94mfrom \u001b[94mthe \u001b[94msecond \u001b[94mfunction\n",
      " \u001b[94mHello \u001b[94mfrom \u001b[94mthe \u001b[94msecond \u001b[94mfunction\n",
      " \u001b[94mHello \u001b[94mfrom \u001b[94mthe \u001b[94msecond \u001b[94mfunction\n",
      " \u001b[94mHello \u001b[94mfrom \u001b[94mthe \u001b[94msecond \u001b[94mfunction\n",
      " \u001b[94mHello \u001b[94mfrom \u001b[94mthe \u001b[94msecond \u001b[94mfunction\n"
     ]
    }
   ],
   "source": [
    "thread_1 = threading.Thread(target=function1)\n",
    "thread_2 = threading.Thread(target=function2)\n",
    "\n",
    "thread_1.start()\n",
    "thread_2.start()\n",
    "\n",
    "thread_1.join()\n",
    "thread_2.join()"
   ]
  },
  {
   "cell_type": "code",
   "execution_count": null,
   "metadata": {},
   "outputs": [],
   "source": []
  }
 ],
 "metadata": {
  "kernelspec": {
   "display_name": "Python 3 (ipykernel)",
   "language": "python",
   "name": "python3"
  },
  "language_info": {
   "codemirror_mode": {
    "name": "ipython",
    "version": 3
   },
   "file_extension": ".py",
   "mimetype": "text/x-python",
   "name": "python",
   "nbconvert_exporter": "python",
   "pygments_lexer": "ipython3",
   "version": "3.9.7"
  }
 },
 "nbformat": 4,
 "nbformat_minor": 4
}
